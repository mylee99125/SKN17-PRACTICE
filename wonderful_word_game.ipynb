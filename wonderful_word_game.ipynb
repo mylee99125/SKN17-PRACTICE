{
 "cells": [
  {
   "cell_type": "markdown",
   "id": "1dcbb32e",
   "metadata": {},
   "source": [
    "# 유사한 단어 찾기 게임"
   ]
  },
  {
   "cell_type": "markdown",
   "id": "52676981",
   "metadata": {},
   "source": [
    "1. 사전 학습된 모델 또는 적절한 데이터셋을 찾는다.\n",
    "2. 워드 임베딩 모델을 학습시킨다.\n",
    "3. 단어 유사도가 0.8 이상인 A, B를 랜덤 추출한다.\n",
    "4. A, B와 대응되는 C를 추출한다.\n",
    "5. D를 입력받는다.\n",
    "\n",
    "=>\n",
    "A:B = C:D 관계에 대응하는 D를 찾는 게임을 만든다. \n",
    "ex) A: 산, B: 바다, C: 나무, D: 물\n",
    "\n",
    "**<출력 예시>**\n",
    "- 관계 [수긍 : 추락 = 대사관 : ?]\n",
    "- 모델이 예측한 가장 적합한 단어: 잠입\n",
    "- 당신의 답변과 모델 예측의 유사도: 0.34\n",
    "- 아쉽네요. 더 생각해보세요."
   ]
  },
  {
   "cell_type": "code",
   "execution_count": 1,
   "id": "9028b316",
   "metadata": {},
   "outputs": [],
   "source": [
    "import random\n",
    "import re\n",
    "from gensim.models.fasttext import load_facebook_vectors"
   ]
  },
  {
   "cell_type": "code",
   "execution_count": 2,
   "id": "bd9f38c0",
   "metadata": {},
   "outputs": [],
   "source": [
    "model_path = 'cc.ko.300.bin'\n",
    "model = load_facebook_vectors(model_path)"
   ]
  },
  {
   "cell_type": "code",
   "execution_count": 9,
   "id": "4a33be3e",
   "metadata": {},
   "outputs": [],
   "source": [
    "_HANGUL_PATTERN = re.compile(r\"^[가-힣]{2,6}$\")\n",
    "\n",
    "def get_korean_vocab(model, limit):\n",
    "    vocab = list(model.key_to_index.keys())[:limit]\n",
    "    korean_vocab = set()\n",
    "\n",
    "    for word in vocab:\n",
    "        # 정규식으로 2~6글자의 한글 단어만 필터링 (조사, 특수문자 등 제외)\n",
    "        if _HANGUL_PATTERN.fullmatch(word):\n",
    "            korean_vocab.add(word)\n",
    "            \n",
    "    return list(korean_vocab)\n",
    "\n",
    "def generate_analogy_quiz(vocab, model, min_similarity=0.8):\n",
    "    while True:\n",
    "        try:\n",
    "            # 1. 랜덤 단어 A를 선택\n",
    "            a = random.choice(vocab)\n",
    "            \n",
    "            # 2. A와 유사도 0.8 이상인 단어 B를 찾음 (상위 5개 후보 중)\n",
    "            similar_words = model.most_similar(a, topn=5)\n",
    "            \n",
    "            # 적절한 B 후보 찾기\n",
    "            b_candidates = [\n",
    "                word for word, sim in similar_words \n",
    "                if sim >= min_similarity and _HANGUL_PATTERN.fullmatch(word) and word != a\n",
    "            ]\n",
    "            \n",
    "            if not b_candidates:\n",
    "                continue\n",
    "            \n",
    "            b = random.choice(b_candidates)\n",
    "\n",
    "            # 3. A, B와는 다른 C를 랜덤하게 선택\n",
    "            for _ in range(50):         \n",
    "                c = random.choice(vocab)\n",
    "                if c != a and c != b and model.similarity(a, c) < 0.6 and model.similarity(b, c) < 0.6:\n",
    "                    break\n",
    "            else:\n",
    "                continue\n",
    "\n",
    "            # 4. 모델을 이용해 정답 D를 예측\n",
    "            predicted_results = model.most_similar(positive=[b, c], negative=[a], topn=5)\n",
    "            \n",
    "            # 5. 예측된 D가 문제로 적합한지 검증\n",
    "            for d_predicted, _ in predicted_results:\n",
    "                if (_HANGUL_PATTERN.fullmatch(d_predicted) and \n",
    "                    d_predicted not in [a, b, c]):\n",
    "                    return a, b, c, d_predicted\n",
    "                    \n",
    "        except KeyError:\n",
    "            continue"
   ]
  },
  {
   "cell_type": "code",
   "execution_count": 10,
   "id": "8dbdbd1b",
   "metadata": {},
   "outputs": [],
   "source": [
    "def play_game(vocab, model):\n",
    "    # 1. 유효한 유추 문제 생성\n",
    "    A, B, C, predicted_D = generate_analogy_quiz(vocab, model)\n",
    "\n",
    "    # 2. 사용자에게 문제 제시\n",
    "    print(\"\\n\" + \"=\"*30)\n",
    "    print(f\"다음 관계를 보고 '?'에 들어갈 단어를 맞춰보세요.\\n\")\n",
    "    print(f\"관계:  [{A} : {B}  =  {C} : ?]\")\n",
    "    print(\"=\"*30)\n",
    "    \n",
    "    # 3. 사용자 답변 입력\n",
    "    user_answer = input(\"당신의 답변: \").strip()\n",
    "\n",
    "    # 4. 결과 출력\n",
    "    print(\"\\n--- 결과 ---\")\n",
    "    print(f\"모델이 예측한 가장 적합한 단어: {predicted_D}\")\n",
    "    print(f\"당신의 답변: {user_answer}\")\n",
    "\n",
    "    if user_answer == predicted_D:\n",
    "        print(\"\\n🎉 정답입니다! 모델의 예측과 정확히 일치해요.\")\n",
    "        return\n",
    "\n",
    "    try:\n",
    "        # 사용자가 입력한 단어가 모델 어휘에 있는지 확인\n",
    "        if user_answer in model:\n",
    "            similarity = model.similarity(user_answer, predicted_D)\n",
    "            print(f\"당신의 답변과 모델 예측의 유사도: {similarity:.2f}\")\n",
    "            \n",
    "            if similarity > 0.7:\n",
    "                print(\"👍 정답에 매우 가까워요! 좋은 답변입니다.\")\n",
    "            elif similarity > 0.4:\n",
    "                print(\"🤔 아쉽네요. 더 생각해보세요.\")\n",
    "            else:\n",
    "                print(\"❌ 많이 벗어난 것 같아요. 다른 단어를 떠올려 보세요.\")\n",
    "        else:\n",
    "            print(\"입력한 단어는 모델의 어휘 사전에 없어요!\")\n",
    "            \n",
    "    except KeyError:\n",
    "         print(\"입력한 단어는 모델의 어휘 사전에 없어요!\")"
   ]
  },
  {
   "cell_type": "code",
   "execution_count": 11,
   "id": "2c2526e5",
   "metadata": {},
   "outputs": [],
   "source": [
    "korean_vocab = get_korean_vocab(model, limit=50000)"
   ]
  },
  {
   "cell_type": "code",
   "execution_count": 19,
   "id": "cb763ee5",
   "metadata": {},
   "outputs": [
    {
     "name": "stdout",
     "output_type": "stream",
     "text": [
      "\n",
      "==============================\n",
      "다음 관계를 보고 '?'에 들어갈 단어를 맞춰보세요.\n",
      "\n",
      "관계:  [이르되 : 가로되  =  운동하는 : ?]\n",
      "==============================\n",
      "\n",
      "--- 결과 ---\n",
      "모델이 예측한 가장 적합한 단어: 운동하고\n",
      "당신의 답변: 운동하며\n",
      "당신의 답변과 모델 예측의 유사도: 0.52\n",
      "🤔 아쉽네요. 더 생각해보세요.\n"
     ]
    }
   ],
   "source": [
    "# 게임 시작\n",
    "play_game(korean_vocab, model)"
   ]
  }
 ],
 "metadata": {
  "kernelspec": {
   "display_name": "nlp_env",
   "language": "python",
   "name": "python3"
  },
  "language_info": {
   "codemirror_mode": {
    "name": "ipython",
    "version": 3
   },
   "file_extension": ".py",
   "mimetype": "text/x-python",
   "name": "python",
   "nbconvert_exporter": "python",
   "pygments_lexer": "ipython3",
   "version": "3.12.11"
  }
 },
 "nbformat": 4,
 "nbformat_minor": 5
}
